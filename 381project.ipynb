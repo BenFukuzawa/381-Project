{
 "cells": [
  {
   "cell_type": "markdown",
   "metadata": {},
   "source": [
    "### Social Network Graph\n",
    "The first part of this project is modeling the social network over which we will simulate different events, namely parties, decay of relationships, falling outs, and meeting people.\n",
    "\n",
    "We determined that the components of the graph are\n",
    "* People: Each person is represented by a node\n",
    "* Frendship / connection: Two connected people have an edge between them. The frequency of there being a connected is modeled off of Dunbar's number [(source)](https://www.bbc.com/future/article/20191001-dunbars-number-why-we-can-only-maintain-150-relationships).\n",
    "* Friendship level: The friendship level of these two people are represented as the weight of the edge. The specific friendship level is chosen using Dunbar's number [(source)](https://www.bbc.com/future/article/20191001-dunbars-number-why-we-can-only-maintain-150-relationships). The specific break downs are:\n",
    "    * People you can recognize (1500): $\\frac{220}{2220} \\le x < \\frac{2220}{2220}$\n",
    "    * Acquaintances (500): $\\frac{220}{2220} \\le x < \\frac{720}{2220}$\n",
    "    * Meaningful contacts (150): $\\frac{70}{2220} \\le x < \\frac{220}{2220}$\n",
    "    * Friends (50): $\\frac{20}{2220} \\le x < \\frac{70}{2220}$\n",
    "    * Good Friends (15): $\\frac{5}{2220} \\le x < \\frac{20}{2220}$\n",
    "    * Family (5): $0<x <\\frac{5}{2220}$"
   ]
  },
  {
   "cell_type": "code",
   "execution_count": 3,
   "metadata": {},
   "outputs": [],
   "source": [
    "import numpy as np"
   ]
  },
  {
   "cell_type": "code",
   "execution_count": 12,
   "metadata": {},
   "outputs": [],
   "source": [
    "def generate_graph(n: int, p:float):\n",
    "    # generate the graph parameters\n",
    "    connections = np.random.uniform(low=0, high=1, size=((n+1)*(n)//2)) > p\n",
    "    weights = np.random.uniform(low=0, high=1, size=((n+1)*(n)//2))\n",
    "\n",
    "    # fill out actual graph\n",
    "    graph = np.zeros((n, n))\n",
    "    ui = (np.triu_indices(n)) # indices of the upper triangular matrix\n",
    "    graph[ui] = weights\n",
    "    graph[ui] = graph[ui] * connections# np.ma.masked_array(graph[ui], mask=connections) \n",
    "\n",
    "    # transpose edges for undirected graph\n",
    "    graph = graph + np.transpose(graph[:, :])\n",
    "\n",
    "    x = np.arange(n)\n",
    "\n",
    "    graph[x, x] = 0 \n",
    "    \n",
    "    return graph"
   ]
  },
  {
   "cell_type": "code",
   "execution_count": 13,
   "metadata": {},
   "outputs": [
    {
     "data": {
      "text/plain": [
       "array([[0.        , 0.        , 0.        , ..., 0.        , 0.81800203,\n",
       "        0.        ],\n",
       "       [0.        , 0.        , 0.77693307, ..., 0.076219  , 0.        ,\n",
       "        0.01849197],\n",
       "       [0.        , 0.77693307, 0.        , ..., 0.        , 0.88388396,\n",
       "        0.36907904],\n",
       "       ...,\n",
       "       [0.        , 0.076219  , 0.        , ..., 0.        , 0.        ,\n",
       "        0.        ],\n",
       "       [0.81800203, 0.        , 0.88388396, ..., 0.        , 0.        ,\n",
       "        0.        ],\n",
       "       [0.        , 0.01849197, 0.36907904, ..., 0.        , 0.        ,\n",
       "        0.        ]], shape=(20000, 20000))"
      ]
     },
     "execution_count": 13,
     "metadata": {},
     "output_type": "execute_result"
    }
   ],
   "source": [
    "generate_graph(20000, 1-2220/10000)"
   ]
  },
  {
   "cell_type": "code",
   "execution_count": null,
   "metadata": {},
   "outputs": [],
   "source": []
  }
 ],
 "metadata": {
  "kernelspec": {
   "display_name": "Python 3",
   "language": "python",
   "name": "python3"
  },
  "language_info": {
   "codemirror_mode": {
    "name": "ipython",
    "version": 3
   },
   "file_extension": ".py",
   "mimetype": "text/x-python",
   "name": "python",
   "nbconvert_exporter": "python",
   "pygments_lexer": "ipython3",
   "version": "3.11.8"
  }
 },
 "nbformat": 4,
 "nbformat_minor": 2
}
